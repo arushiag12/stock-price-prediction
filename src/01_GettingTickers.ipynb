{
  "nbformat": 4,
  "nbformat_minor": 0,
  "metadata": {
    "colab": {
      "provenance": []
    },
    "kernelspec": {
      "name": "python3",
      "display_name": "Python 3"
    },
    "language_info": {
      "name": "python"
    }
  },
  "cells": [
    {
      "cell_type": "markdown",
      "source": [
        "Getting ticker symbols of current S&P 500 companies by scraping Wikipedia."
      ],
      "metadata": {
        "id": "6IGo-t5lratR"
      }
    },
    {
      "cell_type": "code",
      "source": [
        "!pip install bs4\n",
        "!pip install requests"
      ],
      "metadata": {
        "id": "s2BYFt2ONrXi"
      },
      "execution_count": null,
      "outputs": []
    },
    {
      "cell_type": "code",
      "execution_count": null,
      "metadata": {
        "id": "52VcPn4GMCla"
      },
      "outputs": [],
      "source": [
        "import pandas as pd\n",
        "from bs4 import BeautifulSoup\n",
        "import requests"
      ]
    },
    {
      "cell_type": "code",
      "source": [
        "url = \"https://en.wikipedia.org/wiki/List_of_S%26P_500_companies\"\n",
        "res = requests.get(url)\n",
        "soup = BeautifulSoup(res.text)"
      ],
      "metadata": {
        "id": "9AfDmcwgN4et"
      },
      "execution_count": null,
      "outputs": []
    },
    {
      "cell_type": "code",
      "source": [
        "tickers = soup.select(\"#constituents .text\")"
      ],
      "metadata": {
        "id": "rLyJF_MUSraD"
      },
      "execution_count": null,
      "outputs": []
    },
    {
      "cell_type": "code",
      "source": [
        "tickers = [ticker.text for ticker in tickers]\n",
        "tickers = pd.Series(tickers, name='Symbol')\n",
        "len(tickers)"
      ],
      "metadata": {
        "colab": {
          "base_uri": "https://localhost:8080/"
        },
        "id": "gXH4uJmyODNR",
        "outputId": "04f421ae-d3d9-49ab-b309-afb1d57c2bb9"
      },
      "execution_count": null,
      "outputs": [
        {
          "output_type": "execute_result",
          "data": {
            "text/plain": [
              "502"
            ]
          },
          "metadata": {},
          "execution_count": 34
        }
      ]
    },
    {
      "cell_type": "code",
      "source": [
        "tickers.to_csv(\"S&P500-tickers.csv\")"
      ],
      "metadata": {
        "id": "V1FvaKOdS23F"
      },
      "execution_count": null,
      "outputs": []
    }
  ]
}